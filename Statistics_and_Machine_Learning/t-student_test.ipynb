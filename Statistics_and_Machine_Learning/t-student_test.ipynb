{
 "cells": [
  {
   "cell_type": "code",
   "execution_count": 1,
   "metadata": {},
   "outputs": [],
   "source": [
    "import pandas as pd\n",
    "from scipy import stats"
   ]
  },
  {
   "cell_type": "code",
   "execution_count": 4,
   "metadata": {},
   "outputs": [],
   "source": [
    "data = pd.read_csv('file.txt', sep = '\\t')"
   ]
  },
  {
   "cell_type": "code",
   "execution_count": 5,
   "metadata": {},
   "outputs": [
    {
     "data": {
      "text/html": [
       "<div>\n",
       "<style scoped>\n",
       "    .dataframe tbody tr th:only-of-type {\n",
       "        vertical-align: middle;\n",
       "    }\n",
       "\n",
       "    .dataframe tbody tr th {\n",
       "        vertical-align: top;\n",
       "    }\n",
       "\n",
       "    .dataframe thead th {\n",
       "        text-align: right;\n",
       "    }\n",
       "</style>\n",
       "<table border=\"1\" class=\"dataframe\">\n",
       "  <thead>\n",
       "    <tr style=\"text-align: right;\">\n",
       "      <th></th>\n",
       "      <th>Species</th>\n",
       "      <th>CPAT</th>\n",
       "      <th>CPC2</th>\n",
       "      <th>RNAcon</th>\n",
       "      <th>RNAmining</th>\n",
       "      <th>Transdecoder</th>\n",
       "    </tr>\n",
       "  </thead>\n",
       "  <tbody>\n",
       "    <tr>\n",
       "      <th>0</th>\n",
       "      <td>Anolis carolinensis</td>\n",
       "      <td>94.55</td>\n",
       "      <td>86.87</td>\n",
       "      <td>83.03</td>\n",
       "      <td>98.79</td>\n",
       "      <td>88.26</td>\n",
       "    </tr>\n",
       "    <tr>\n",
       "      <th>1</th>\n",
       "      <td>Chrysemys picta bellii</td>\n",
       "      <td>92.56</td>\n",
       "      <td>89.01</td>\n",
       "      <td>82.36</td>\n",
       "      <td>98.00</td>\n",
       "      <td>84.80</td>\n",
       "    </tr>\n",
       "    <tr>\n",
       "      <th>2</th>\n",
       "      <td>Crocodylus porosus</td>\n",
       "      <td>94.07</td>\n",
       "      <td>92.48</td>\n",
       "      <td>84.32</td>\n",
       "      <td>98.15</td>\n",
       "      <td>87.63</td>\n",
       "    </tr>\n",
       "    <tr>\n",
       "      <th>3</th>\n",
       "      <td>Danio rerio</td>\n",
       "      <td>94.64</td>\n",
       "      <td>87.17</td>\n",
       "      <td>80.97</td>\n",
       "      <td>97.98</td>\n",
       "      <td>87.74</td>\n",
       "    </tr>\n",
       "    <tr>\n",
       "      <th>4</th>\n",
       "      <td>Eptatretus burgeri</td>\n",
       "      <td>95.59</td>\n",
       "      <td>78.82</td>\n",
       "      <td>75.84</td>\n",
       "      <td>97.56</td>\n",
       "      <td>76.26</td>\n",
       "    </tr>\n",
       "    <tr>\n",
       "      <th>5</th>\n",
       "      <td>Gallus gallus</td>\n",
       "      <td>96.95</td>\n",
       "      <td>90.69</td>\n",
       "      <td>75.81</td>\n",
       "      <td>99.24</td>\n",
       "      <td>83.50</td>\n",
       "    </tr>\n",
       "    <tr>\n",
       "      <th>6</th>\n",
       "      <td>Homo sapiens</td>\n",
       "      <td>95.20</td>\n",
       "      <td>75.85</td>\n",
       "      <td>71.73</td>\n",
       "      <td>98.50</td>\n",
       "      <td>76.02</td>\n",
       "    </tr>\n",
       "    <tr>\n",
       "      <th>7</th>\n",
       "      <td>Latimeria chalumnae</td>\n",
       "      <td>99.57</td>\n",
       "      <td>91.60</td>\n",
       "      <td>97.45</td>\n",
       "      <td>99.57</td>\n",
       "      <td>98.86</td>\n",
       "    </tr>\n",
       "    <tr>\n",
       "      <th>8</th>\n",
       "      <td>Monodelphis domestica</td>\n",
       "      <td>96.24</td>\n",
       "      <td>91.44</td>\n",
       "      <td>80.90</td>\n",
       "      <td>98.84</td>\n",
       "      <td>85.22</td>\n",
       "    </tr>\n",
       "    <tr>\n",
       "      <th>9</th>\n",
       "      <td>Mus musculus</td>\n",
       "      <td>95.48</td>\n",
       "      <td>81.40</td>\n",
       "      <td>76.78</td>\n",
       "      <td>97.73</td>\n",
       "      <td>80.80</td>\n",
       "    </tr>\n",
       "    <tr>\n",
       "      <th>10</th>\n",
       "      <td>Notechis scutatus</td>\n",
       "      <td>85.19</td>\n",
       "      <td>86.29</td>\n",
       "      <td>84.83</td>\n",
       "      <td>96.51</td>\n",
       "      <td>83.44</td>\n",
       "    </tr>\n",
       "    <tr>\n",
       "      <th>11</th>\n",
       "      <td>Ornithorhynchus anatinus</td>\n",
       "      <td>87.47</td>\n",
       "      <td>72.04</td>\n",
       "      <td>84.73</td>\n",
       "      <td>97.61</td>\n",
       "      <td>84.63</td>\n",
       "    </tr>\n",
       "    <tr>\n",
       "      <th>12</th>\n",
       "      <td>Petromyzon marinus</td>\n",
       "      <td>96.59</td>\n",
       "      <td>75.14</td>\n",
       "      <td>95.11</td>\n",
       "      <td>99.42</td>\n",
       "      <td>96.68</td>\n",
       "    </tr>\n",
       "    <tr>\n",
       "      <th>13</th>\n",
       "      <td>Sphenodon punctatus</td>\n",
       "      <td>97.61</td>\n",
       "      <td>91.91</td>\n",
       "      <td>97.86</td>\n",
       "      <td>99.20</td>\n",
       "      <td>95.24</td>\n",
       "    </tr>\n",
       "    <tr>\n",
       "      <th>14</th>\n",
       "      <td>Xenopus tropicalis</td>\n",
       "      <td>99.07</td>\n",
       "      <td>97.92</td>\n",
       "      <td>98.70</td>\n",
       "      <td>99.13</td>\n",
       "      <td>97.77</td>\n",
       "    </tr>\n",
       "  </tbody>\n",
       "</table>\n",
       "</div>"
      ],
      "text/plain": [
       "                     Species   CPAT   CPC2  RNAcon  RNAmining  Transdecoder\n",
       "0        Anolis carolinensis  94.55  86.87   83.03      98.79         88.26\n",
       "1     Chrysemys picta bellii  92.56  89.01   82.36      98.00         84.80\n",
       "2         Crocodylus porosus  94.07  92.48   84.32      98.15         87.63\n",
       "3                Danio rerio  94.64  87.17   80.97      97.98         87.74\n",
       "4         Eptatretus burgeri  95.59  78.82   75.84      97.56         76.26\n",
       "5              Gallus gallus  96.95  90.69   75.81      99.24         83.50\n",
       "6               Homo sapiens  95.20  75.85   71.73      98.50         76.02\n",
       "7        Latimeria chalumnae  99.57  91.60   97.45      99.57         98.86\n",
       "8      Monodelphis domestica  96.24  91.44   80.90      98.84         85.22\n",
       "9               Mus musculus  95.48  81.40   76.78      97.73         80.80\n",
       "10         Notechis scutatus  85.19  86.29   84.83      96.51         83.44\n",
       "11  Ornithorhynchus anatinus  87.47  72.04   84.73      97.61         84.63\n",
       "12        Petromyzon marinus  96.59  75.14   95.11      99.42         96.68\n",
       "13       Sphenodon punctatus  97.61  91.91   97.86      99.20         95.24\n",
       "14        Xenopus tropicalis  99.07  97.92   98.70      99.13         97.77"
      ]
     },
     "execution_count": 5,
     "metadata": {},
     "output_type": "execute_result"
    }
   ],
   "source": [
    "data"
   ]
  },
  {
   "cell_type": "code",
   "execution_count": 7,
   "metadata": {},
   "outputs": [
    {
     "data": {
      "text/plain": [
       "0     98.79\n",
       "1     98.00\n",
       "2     98.15\n",
       "3     97.98\n",
       "4     97.56\n",
       "5     99.24\n",
       "6     98.50\n",
       "7     99.57\n",
       "8     98.84\n",
       "9     97.73\n",
       "10    96.51\n",
       "11    97.61\n",
       "12    99.42\n",
       "13    99.20\n",
       "14    99.13\n",
       "Name: RNAmining, dtype: float64"
      ]
     },
     "execution_count": 7,
     "metadata": {},
     "output_type": "execute_result"
    }
   ],
   "source": [
    "teste = data['RNAmining']\n",
    "teste"
   ]
  },
  {
   "cell_type": "markdown",
   "metadata": {},
   "source": [
    "# Perform t-student test to visualize if RNAmining results are significantly better than the other tools"
   ]
  },
  {
   "cell_type": "code",
   "execution_count": 12,
   "metadata": {},
   "outputs": [
    {
     "data": {
      "text/plain": [
       "Ttest_indResult(statistic=6.360058858873139, pvalue=1.5692851180420724e-05)"
      ]
     },
     "execution_count": 12,
     "metadata": {},
     "output_type": "execute_result"
    }
   ],
   "source": [
    "stats.ttest_ind(data['RNAmining'], data['CPC2'], equal_var=False)"
   ]
  },
  {
   "cell_type": "code",
   "execution_count": 13,
   "metadata": {},
   "outputs": [
    {
     "data": {
      "text/plain": [
       "Ttest_indResult(statistic=3.5950567535022735, pvalue=0.0025629572987713586)"
      ]
     },
     "execution_count": 13,
     "metadata": {},
     "output_type": "execute_result"
    }
   ],
   "source": [
    "stats.ttest_ind(data['RNAmining'], data['CPAT'], equal_var=False)"
   ]
  },
  {
   "cell_type": "code",
   "execution_count": 14,
   "metadata": {},
   "outputs": [
    {
     "data": {
      "text/plain": [
       "Ttest_indResult(statistic=6.062145675179486, pvalue=2.6928382089816133e-05)"
      ]
     },
     "execution_count": 14,
     "metadata": {},
     "output_type": "execute_result"
    }
   ],
   "source": [
    "stats.ttest_ind(data['RNAmining'], data['RNAcon'], equal_var=False)"
   ]
  },
  {
   "cell_type": "code",
   "execution_count": 15,
   "metadata": {},
   "outputs": [
    {
     "data": {
      "text/plain": [
       "Ttest_indResult(statistic=5.999843244424179, pvalue=2.8938747196356847e-05)"
      ]
     },
     "execution_count": 15,
     "metadata": {},
     "output_type": "execute_result"
    }
   ],
   "source": [
    "stats.ttest_ind(data['RNAmining'], data['Transdecoder'], equal_var=False)"
   ]
  }
 ],
 "metadata": {
  "kernelspec": {
   "display_name": "Python 3",
   "language": "python",
   "name": "python3"
  },
  "language_info": {
   "codemirror_mode": {
    "name": "ipython",
    "version": 3
   },
   "file_extension": ".py",
   "mimetype": "text/x-python",
   "name": "python",
   "nbconvert_exporter": "python",
   "pygments_lexer": "ipython3",
   "version": "3.7.3"
  }
 },
 "nbformat": 4,
 "nbformat_minor": 4
}
